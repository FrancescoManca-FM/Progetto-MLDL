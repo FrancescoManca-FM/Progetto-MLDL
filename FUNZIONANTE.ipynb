{
  "nbformat": 4,
  "nbformat_minor": 0,
  "metadata": {
    "colab": {
      "name": "FUNZIONANTE.ipynb",
      "provenance": [],
      "collapsed_sections": []
    },
    "kernelspec": {
      "name": "python3",
      "display_name": "Python 3"
    },
    "accelerator": "GPU"
  },
  "cells": [
    {
      "cell_type": "markdown",
      "metadata": {
        "id": "j40FSXGxD2VD",
        "colab_type": "text"
      },
      "source": [
        "**Install requirements**"
      ]
    },
    {
      "cell_type": "code",
      "metadata": {
        "id": "uudv9Cj8E8OI",
        "colab_type": "code",
        "outputId": "2ec89ff5-bbe9-4d93-f1da-802acca17cb8",
        "colab": {
          "base_uri": "https://localhost:8080/",
          "height": 35
        }
      },
      "source": [
        "\"\"\"!pip3 install 'torch==1.3.1'\n",
        "!pip3 install 'torchvision==0.5.0'\n",
        "!pip3 install 'Pillow-SIMD'\n",
        "!pip3 install 'tqdm'\"\"\"\n",
        "# !pip install --upgrade wandb"
      ],
      "execution_count": 0,
      "outputs": [
        {
          "output_type": "execute_result",
          "data": {
            "text/plain": [
              "\"!pip3 install 'torch==1.3.1'\\n!pip3 install 'torchvision==0.5.0'\\n!pip3 install 'Pillow-SIMD'\\n!pip3 install 'tqdm'\""
            ]
          },
          "metadata": {
            "tags": []
          },
          "execution_count": 1
        }
      ]
    },
    {
      "cell_type": "markdown",
      "metadata": {
        "id": "0dC-rYdjD-E3",
        "colab_type": "text"
      },
      "source": [
        "**Import libraries**"
      ]
    },
    {
      "cell_type": "code",
      "metadata": {
        "id": "KQ6tCA_s2rru",
        "colab_type": "code",
        "colab": {
          "base_uri": "https://localhost:8080/",
          "height": 72
        },
        "outputId": "5c063fef-3cbc-4513-bd96-39135de37a26"
      },
      "source": [
        "import os\n",
        "import logging\n",
        "\n",
        "import torch\n",
        "import torch.nn as nn\n",
        "import torch.optim as optim\n",
        "from torch.utils.data import Subset, DataLoader\n",
        "from torch.backends import cudnn\n",
        "\n",
        "import torchvision\n",
        "from torchvision import transforms\n",
        "from torchvision.models import alexnet # , resnet18, resnet34\n",
        "\n",
        "from PIL import Image\n",
        "from tqdm import tqdm\n",
        "import random\n",
        "\n",
        "import seaborn as sns\n",
        "import pandas as pd\n",
        "import matplotlib.pyplot as plt"
      ],
      "execution_count": 139,
      "outputs": [
        {
          "output_type": "stream",
          "text": [
            "/usr/local/lib/python3.6/dist-packages/statsmodels/tools/_testing.py:19: FutureWarning: pandas.util.testing is deprecated. Use the functions in the public API at pandas.testing instead.\n",
            "  import pandas.util.testing as tm\n"
          ],
          "name": "stderr"
        }
      ]
    },
    {
      "cell_type": "markdown",
      "metadata": {
        "id": "_XOn3bHMEBzX",
        "colab_type": "text"
      },
      "source": [
        "**Set arguments**"
      ]
    },
    {
      "cell_type": "code",
      "metadata": {
        "id": "AmMFuQNV2ueu",
        "colab_type": "code",
        "colab": {}
      },
      "source": [
        "DEVICE = 'cuda' # 'cuda' or 'cpu'\n",
        "DATA_DIR = 'DATA' # here the dataset will be downloaded\n",
        "\n",
        "NUM_CLASSES = 100 \n",
        "\n",
        "# @toupdate the following vals (look at icarl paper)\n",
        "\n",
        "BATCH_SIZE = 128     # Higher batch sizes allows for larger learning rates. An empirical heuristic suggests that, when changing\n",
        "                     # the batch size, learning rate should change by the same factor to have comparable results\n",
        "\n",
        "LR = 0.01           # The initial Learning Rate\n",
        "MOMENTUM = 0.9       # Hyperparameter for SGD, keep this at 0.9 when using SGD\n",
        "WEIGHT_DECAY = 5e-5  # Regularization, you can keep this at the default\n",
        "\n",
        "NUM_EPOCHS = 10      # Total number of training epochs (iterations over dataset)\n",
        "STEP_SIZE = 49       # How many epochs before decreasing learning rate (if using a step-down policy)\n",
        "GAMMA = 0.1          # Multiplicative factor for learning rate step-down\n",
        "\n",
        "LOG_FREQUENCY = 10"
      ],
      "execution_count": 0,
      "outputs": []
    },
    {
      "cell_type": "markdown",
      "metadata": {
        "id": "0Lf-WK3hEJCM",
        "colab_type": "text"
      },
      "source": [
        "**Retrieving dataset CIFAR1000**"
      ]
    },
    {
      "cell_type": "code",
      "metadata": {
        "id": "2n1do9ln3OVE",
        "colab_type": "code",
        "colab": {
          "base_uri": "https://localhost:8080/",
          "height": 141
        },
        "outputId": "0a9b764e-df23-4a98-e387-bd245fbdaa0d"
      },
      "source": [
        "# Clone github repository with dataset handler\n",
        "# !rm -r Cifar100/ #debug purposes\n",
        "if not os.path.isdir('./Cifar100'):\n",
        "  !git clone https://github.com/danielegenta/Progetto-MLDL.git\n",
        "  !mv 'Progetto-MLDL' 'Cifar100'\n",
        "  !rm -r Cifar100/Theoretical-Sources\n",
        "  !rm -rf Cifar100/ProjectMLDL.ipynb"
      ],
      "execution_count": 3,
      "outputs": [
        {
          "output_type": "stream",
          "text": [
            "Cloning into 'Progetto-MLDL'...\n",
            "remote: Enumerating objects: 139, done.\u001b[K\n",
            "remote: Counting objects: 100% (139/139), done.\u001b[K\n",
            "remote: Compressing objects: 100% (96/96), done.\u001b[K\n",
            "remote: Total 139 (delta 57), reused 99 (delta 30), pack-reused 0\u001b[K\n",
            "Receiving objects: 100% (139/139), 3.46 MiB | 2.78 MiB/s, done.\n",
            "Resolving deltas: 100% (57/57), done.\n"
          ],
          "name": "stdout"
        }
      ]
    },
    {
      "cell_type": "code",
      "metadata": {
        "id": "ysghtAWOPYZD",
        "colab_type": "code",
        "outputId": "7dae2cf6-ddbc-4197-c360-bcb81643a807",
        "colab": {
          "base_uri": "https://localhost:8080/",
          "height": 212
        }
      },
      "source": [
        "from Cifar100.Dataset.cifar100 import CIFAR100\n",
        "# Download dataset from the official sourse and save it into DATA\n",
        "\n",
        "# if not os.path.isdir('./{}'.format(DATA_DIR)):\n",
        "!wget https://www.cs.toronto.edu/~kriz/cifar-100-python.tar.gz\n",
        "!tar -xf 'cifar-100-python.tar.gz'  \n",
        "!mv 'cifar-100-python' $DATA_DIR\n",
        "!rm -rf 'cifar-100-python.tar.gz'"
      ],
      "execution_count": 4,
      "outputs": [
        {
          "output_type": "stream",
          "text": [
            "--2020-05-19 13:47:12--  https://www.cs.toronto.edu/~kriz/cifar-100-python.tar.gz\n",
            "Resolving www.cs.toronto.edu (www.cs.toronto.edu)... 128.100.3.30\n",
            "Connecting to www.cs.toronto.edu (www.cs.toronto.edu)|128.100.3.30|:443... connected.\n",
            "HTTP request sent, awaiting response... 200 OK\n",
            "Length: 169001437 (161M) [application/x-gzip]\n",
            "Saving to: ‘cifar-100-python.tar.gz’\n",
            "\n",
            "cifar-100-python.ta 100%[===================>] 161.17M  16.8MB/s    in 11s     \n",
            "\n",
            "2020-05-19 13:47:24 (14.9 MB/s) - ‘cifar-100-python.tar.gz’ saved [169001437/169001437]\n",
            "\n"
          ],
          "name": "stdout"
        }
      ]
    },
    {
      "cell_type": "markdown",
      "metadata": {
        "id": "5oJ5m4V-ERDh",
        "colab_type": "text"
      },
      "source": [
        "**Define data preprocessing**"
      ]
    },
    {
      "cell_type": "code",
      "metadata": {
        "id": "rD2_Re8kPxRC",
        "colab_type": "code",
        "colab": {}
      },
      "source": [
        "# it is ok to use also .5 mean and .5 std (faq1)\n",
        "# @tocheck\n",
        "# ref: https://github.com/chengyangfu/pytorch-vgg-cifar10/blob/master/main.py + pytorch resnet documentation\n",
        "# Define transformations for training\n",
        "transform_train = transforms.Compose([\n",
        "    transforms.RandomCrop(32, padding=4),\n",
        "    transforms.RandomHorizontalFlip(),\n",
        "    transforms.ToTensor(),\n",
        "    transforms.Normalize(mean=[0.507, 0.487, 0.441], std=[0.267, 0.256, 0.276])\n",
        "])\n",
        "\n",
        "# Define transformations for evaluation\n",
        "eval_transform = transforms.Compose([transforms.Resize(32),\n",
        "                                      transforms.ToTensor(),\n",
        "                                      transforms.Normalize(mean=[0.485, 0.456, 0.406], std=[0.229, 0.224, 0.225])                                   \n",
        "])"
      ],
      "execution_count": 0,
      "outputs": []
    },
    {
      "cell_type": "markdown",
      "metadata": {
        "colab_type": "text",
        "id": "a7EVuDrcJj2N"
      },
      "source": [
        "**Prepare dataset**"
      ]
    },
    {
      "cell_type": "code",
      "metadata": {
        "colab_type": "code",
        "id": "nJKwvGljJj2T",
        "outputId": "e5273818-4211-4b6d-a99d-056eea44ad8a",
        "colab": {
          "base_uri": "https://localhost:8080/",
          "height": 52
        }
      },
      "source": [
        "from Cifar100.Dataset.cifar100 import CIFAR100\n",
        "# Import dataset\n",
        "# full_dataset = CIFAR100(DATA_DIR, split='train', transform=transform_train)\n",
        "train_dataset = CIFAR100(DATA_DIR, split='train', transform=transform_train)\n",
        "test_dataset = CIFAR100(DATA_DIR, split='test', transform=eval_transform)\n",
        "\n",
        "\n",
        "# @todo\n",
        "# split into train, test, \n",
        "print(len(train_dataset))\n",
        "print(len(test_dataset))\n",
        "\n",
        "# random.seed(30)\n",
        "# rand_subset = random.sample(list(full_dataset.df.index), 10000)\n",
        "# dataset = Subset(full_dataset, rand_subset)"
      ],
      "execution_count": 26,
      "outputs": [
        {
          "output_type": "stream",
          "text": [
            "50000\n",
            "10000\n"
          ],
          "name": "stdout"
        }
      ]
    },
    {
      "cell_type": "code",
      "metadata": {
        "colab_type": "code",
        "id": "Ckn3H69iJj2X",
        "colab": {}
      },
      "source": [
        "import pandas as pd\n",
        "import numpy as np\n",
        "\n",
        "def build_reverse_index(dataset, splits):\n",
        "    reverse_index = pd.DataFrame(columns=['group', 'labels'])\n",
        "\n",
        "    for k in splits.keys():\n",
        "        labels = list(dataset.df.loc[splits[k]['train'],'labels'].value_counts().index)\n",
        "        group = [k for i in range(len(labels))]\n",
        "        data = pd.DataFrame(np.array([group, labels]).T, columns=['group', 'labels'])\n",
        "        reverse_index = reverse_index.append(data, ignore_index=True)\n",
        "\n",
        "    reverse_index['nodes'] = reverse_index.index\n",
        "    return reverse_index\n",
        "\n",
        "def changeIndex(reverse_index, column):\n",
        "    reverse_index = reverse_index.set_index(column)\n",
        "    reverse_index[column] = reverse_index.index\n",
        "    return reverse_index\n",
        "\n",
        "def getLabels(reverse_index, outputs):\n",
        "    outs = outputs.cpu().numpy()\n",
        "    reverse_index = changeIndex(outputs_labels_mapping, 'nodes')\n",
        "    labels = reverse_index.loc[outs, 'labels']\n",
        "\n",
        "    labels = torch.tensor(list(labels))\n",
        "    return labels.to(DEVICE)\n",
        "\n",
        "def getNodes(reverse_index, labels):\n",
        "    labels = labels.cpu().numpy()\n",
        "    reverse_index = changeIndex(outputs_labels_mapping, 'labels')\n",
        "    nodes = reverse_index.loc[labels, 'nodes']\n",
        "\n",
        "    nodes = torch.tensor(list(nodes))\n",
        "    return nodes.to(DEVICE)\n",
        "\n",
        "def build_test_splits(dataset, reverse_index):\n",
        "    splits = dict()\n",
        "    groups = (reverse_index['group'].value_counts().index)\n",
        "    for g in groups:\n",
        "        labels_of_groups = reverse_index.loc[reverse_index['group'] == g, 'labels']\n",
        "        indices = list(dataset.df[dataset.df['labels'].isin(labels_of_groups)].index)\n",
        "        splits[g] = indices\n",
        "    return splits"
      ],
      "execution_count": 0,
      "outputs": []
    },
    {
      "cell_type": "markdown",
      "metadata": {
        "id": "sYLmmQn7JOLc",
        "colab_type": "text"
      },
      "source": [
        "**Build dataset splits and reverse index**"
      ]
    },
    {
      "cell_type": "code",
      "metadata": {
        "id": "RpcJvhxhJOLc",
        "colab_type": "code",
        "colab": {}
      },
      "source": [
        "train_splits = train_dataset.split_in_train_val_groups(ratio=0.99, seed=30)\n",
        "outputs_labels_mapping = build_reverse_index(train_dataset, train_splits)\n",
        "test_splits = build_test_splits(test_dataset, outputs_labels_mapping)"
      ],
      "execution_count": 0,
      "outputs": []
    },
    {
      "cell_type": "markdown",
      "metadata": {
        "id": "B7fov9YAFTlj",
        "colab_type": "text"
      },
      "source": [
        "**Prepare dataloaders**"
      ]
    },
    {
      "cell_type": "code",
      "metadata": {
        "id": "M5MSItI0QVpn",
        "colab_type": "code",
        "outputId": "83f1d569-a34b-4f5f-e398-b232a5bb0cca",
        "colab": {
          "base_uri": "https://localhost:8080/",
          "height": 70
        }
      },
      "source": [
        "# Dataloaders iterate over pytorch datasets and transparently provide useful functions (e.g. parallelization and shuffling)\n",
        "train_subsets = []\n",
        "val_subsets = []\n",
        "test_subsets = []\n",
        "\n",
        "for v in train_splits.values():\n",
        "    train_subs = Subset(train_dataset, v['train'])\n",
        "    val_subs = Subset(train_dataset, v['val'])\n",
        "    # train_dl = DataLoader(train_subs, batch_size=BATCH_SIZE, shuffle=True, num_workers=4, drop_last=True)\n",
        "    # val_dl = DataLoader(train_subs, batch_size=BATCH_SIZE, shuffle=True, num_workers=4, drop_last=False)\n",
        "    train_subsets.append(train_subs)\n",
        "    val_subsets.append(val_subs)\n",
        "\n",
        "for i in range(0,10):\n",
        "    v=test_splits[i]\n",
        "    test_subs = Subset(test_dataset, v)\n",
        "    # test_dl = DataLoader(test_subs, batch_size=BATCH_SIZE, shuffle=True, num_workers=4, drop_last=False)\n",
        "    test_subsets.append(test_subs)\n",
        "\n",
        "\n",
        "\n",
        "# test to check classes in different dataset\n",
        "dict_train={}\n",
        "for img_train in train_subsets[0]:\n",
        "  if img_train[1] not in dict_train:\n",
        "    dict_train[img_train[1]]=1\n",
        "  else:\n",
        "    dict_train[img_train[1]]+=1\n",
        "dict_val={}\n",
        "for img_val in val_subsets[0]:\n",
        "  if img_val[1] not in dict_val:\n",
        "    dict_val[img_val[1]]=1\n",
        "  else:\n",
        "    dict_val[img_val[1]]+=1\n",
        "dict_test={}\n",
        "for img_test in test_subsets[0]:\n",
        "  if img_test[1] not in dict_test:\n",
        "    dict_test[img_test[1]]=1\n",
        "  else:\n",
        "    dict_test[img_test[1]]+=1\n",
        "\n",
        "print(sorted(dict_test.keys()))\n",
        "print(sorted(dict_test.keys()))\n",
        "print(sorted(dict_test.keys()))"
      ],
      "execution_count": 110,
      "outputs": [
        {
          "output_type": "stream",
          "text": [
            "[18, 19, 23, 30, 39, 46, 53, 60, 98, 99]\n",
            "[18, 19, 23, 30, 39, 46, 53, 60, 98, 99]\n",
            "[18, 19, 23, 30, 39, 46, 53, 60, 98, 99]\n"
          ],
          "name": "stdout"
        }
      ]
    },
    {
      "cell_type": "code",
      "metadata": {
        "id": "KzG6w15UudAP",
        "colab_type": "code",
        "colab": {}
      },
      "source": [
        "import time\n",
        "\n",
        "def fake_train(net, train_dataloader, criterion, optimizer, scheduler, num_epochs=NUM_EPOCHS):\n",
        "    # By default, everything is loaded to cpu\n",
        "    net = net.to(DEVICE) # this will bring the network to GPU if DEVICE is cuda\n",
        "\n",
        "    cudnn.benchmark # Calling this optimizes runtime\n",
        "    \n",
        "    current_step = 0\n",
        "    # Start iterating over the epochs\n",
        "    start_time = time.time()\n",
        "    for epoch in range(num_epochs):\n",
        "        net.train()\n",
        "        print('Starting epoch {}/{}, LR = {}'.format(epoch+1, num_epochs, scheduler.get_lr()))\n",
        "\n",
        "        running_corrects = 0\n",
        "        running_loss = 0.0\n",
        "        for images, labels in train_dataloader:\n",
        "            print(labels)\n",
        "            # Bring data over the device of choice\n",
        "            images = images.to(DEVICE)\n",
        "            labels = labels.to(DEVICE)\n",
        "\n",
        "            optimizer.zero_grad() # Zero-ing the gradients\n",
        "\n",
        "            outputs = net(images)\n",
        "\n",
        "            loss = criterion(outputs, labels)\n",
        "            # Get predictions\n",
        "            _, preds = torch.max(outputs.data, 1)\n",
        "            print(preds)\n",
        "            preds = getLabels(outputs_labels_mapping, preds)\n",
        "            print(preds)\n",
        "\n",
        "            break\n",
        "        break\n",
        "    print('end of fake train')\n",
        "    \n",
        "\n",
        "\n",
        "def train(net, train_dataloader, criterion, optimizer, scheduler, num_epochs=NUM_EPOCHS):     \n",
        "    # By default, everything is loaded to cpu\n",
        "    net = net.to(DEVICE) # this will bring the network to GPU if DEVICE is cuda\n",
        "\n",
        "    cudnn.benchmark # Calling this optimizes runtime\n",
        "    \n",
        "    current_step = 0\n",
        "    # Start iterating over the epochs\n",
        "    start_time = time.time()\n",
        "    for epoch in range(num_epochs):\n",
        "        net.train()\n",
        "        print('Starting epoch {}/{}, LR = {}'.format(epoch+1, num_epochs, scheduler.get_lr()))\n",
        "\n",
        "        running_corrects = 0\n",
        "        running_loss = 0.0\n",
        "        for images, labels in train_dataloader:\n",
        "            # Bring data over the device of choice\n",
        "            images = images.to(DEVICE)\n",
        "            labels = labels.to(DEVICE)\n",
        "\n",
        "            optimizer.zero_grad() # Zero-ing the gradients\n",
        "\n",
        "            outputs = net(images)\n",
        "\n",
        "            loss = criterion(outputs, labels)\n",
        "            \n",
        "            # Get predictions\n",
        "            _, preds = torch.max(outputs.data, 1)\n",
        "            # preds = getLabels(outputs_labels_mapping, preds)\n",
        "            # print(preds)\n",
        "            \n",
        "            # Update Corrects & Loss\n",
        "            running_loss += loss.item() * images.size(0)\n",
        "            running_corrects += torch.sum(preds == labels.data).data.item()\n",
        "\n",
        "            # Log loss\n",
        "            if current_step % LOG_FREQUENCY == 0:\n",
        "                print('Train step - Step {}, Loss {}'.format(current_step, loss.item()))\n",
        "\n",
        "            # Compute gradients for each layer and update weights\n",
        "            loss.backward()  # backward pass: computes gradients\n",
        "            optimizer.step() # update weights based on accumulated gradients\n",
        "\n",
        "            current_step += 1\n",
        "        \n",
        "        \n",
        "        # Step the scheduler\n",
        "        scheduler.step()\n",
        "\n",
        "        # Calculate Accuracy & Loss\n",
        "        epoch_loss = running_loss / float(len(train_dataloader.dataset))\n",
        "        epoch_acc = running_corrects / float(len(train_dataloader.dataset))\n",
        "        \n",
        "        # wandb.log({'Epochs': epoch, 'Train Accuracy': epoch_acc, 'Train Loss': epoch_loss})\n",
        "        print('Train epoch - Accuracy: {} Loss: {} Corrects: {}'.format(epoch_acc, epoch_loss, running_corrects))\n",
        "    print('Training finished in {} seconds'.format(time.time() - start_time))\n",
        "\n",
        "def validate(net, val_dataloader, criterion=None):\n",
        "    net.eval()\n",
        "\n",
        "    running_corrects = 0\n",
        "    running_loss = 0.0\n",
        "    for images, labels in val_dataloader:\n",
        "        # Bring data over the device of choice\n",
        "        images = images.to(DEVICE)\n",
        "        labels = labels.to(DEVICE)\n",
        "\n",
        "        # Forward pass to the network\n",
        "        outputs = net(images)\n",
        "        \n",
        "        # Update Corrects & Loss\n",
        "        if criterion is not None:\n",
        "            loss = criterion(outputs, labels)\n",
        "            running_loss += loss.item() * images.size(0)\n",
        "\n",
        "        _, preds = torch.max(outputs.data, 1)\n",
        "        # preds = getLabels(outputs_labels_mapping, preds)\n",
        "        running_corrects += torch.sum(preds == labels.data).data.item()\n",
        "        \n",
        "    # Calculate Accuracy & Loss\n",
        "    loss = running_loss / float(len(val_dataloader.dataset))\n",
        "    acc = running_corrects / float(len(val_dataloader.dataset))\n",
        "\n",
        "    return acc, loss\n",
        "\n",
        "def test(net, test_dataloader):\n",
        "    acc, _ = validate(net, test_dataloader)\n",
        "    return acc\n",
        "\n",
        "# Joins 2+ subsets into a new Subset\n",
        "def joinSubsets(dataset, subsets):\n",
        "    indices = []\n",
        "    for s in subsets:\n",
        "        indices += s.indices\n",
        "    return Subset(dataset, indices)\n",
        "\n",
        "def jointTraining(getNet, addOutputs, train_subsets, val_subsets, test_subsets):\n",
        "    # wandb.init(project=\"progetto-mldl\", name='joint-training', anonymous='never')\n",
        "\n",
        "    net, criterion, optimizer, scheduler = getNet()\n",
        "    # wandb.watch(net)\n",
        "\n",
        "    train_set = None\n",
        "    test_set = None\n",
        "    first_pass = True\n",
        "    for train_subset, val_subset, test_subset in zip(train_subsets, val_subsets, test_subsets):\n",
        "\n",
        "        # Builds growing train and test set. The new sets include data from previous class groups and current class group\n",
        "        if train_set is None:\n",
        "            train_set = train_subset\n",
        "        else:\n",
        "            train_set = joinSubsets(train_dataset, [train_set, train_subset])\n",
        "        if test_set is None:\n",
        "            test_set = test_subset\n",
        "        else:\n",
        "            test_set = joinSubsets(test_dataset, [test_set, test_subset])\n",
        "\n",
        "        if first_pass:\n",
        "            first_pass = False\n",
        "        else:\n",
        "            addOutputs(net, 10)\n",
        "\n",
        "        # Trains model on previous and current class groups\n",
        "        _, _, optimizer, scheduler = getNet()\n",
        "        train_loader = DataLoader(train_set, batch_size=BATCH_SIZE, shuffle=False, num_workers=4, drop_last=False)\n",
        "        train(net, train_loader, criterion, optimizer, scheduler)\n",
        "\n",
        "        # Validate model on current class group\n",
        "        val_loader = DataLoader(val_subset, batch_size=BATCH_SIZE, shuffle=False, num_workers=4, drop_last=False)\n",
        "        acc, loss = validate(net, val_loader, criterion)\n",
        "        print(acc, loss)\n",
        "\n",
        "        # Test the model on previous and current class groups\n",
        "        test_loader = DataLoader(test_set, batch_size=BATCH_SIZE, shuffle=False, num_workers=4, drop_last=False)\n",
        "        acc = test(net, test_loader)\n",
        "        print(acc)\n"
      ],
      "execution_count": 0,
      "outputs": []
    },
    {
      "cell_type": "code",
      "metadata": {
        "id": "8Ff9pwV10b0v",
        "colab_type": "code",
        "colab": {}
      },
      "source": [
        "from Cifar100.resnet import resnet34\n",
        "\n",
        "def getResNet34(output_size):\n",
        "    net = resnet34(num_classes=output_size)\n",
        "    # net.fc = nn.Linear(net.fc.in_features, output_size)\n",
        "\n",
        "    criterion = nn.CrossEntropyLoss()\n",
        "    parameters_to_optimize = net.parameters()\n",
        "    optimizer = optim.SGD(parameters_to_optimize, lr=LR, momentum=MOMENTUM, weight_decay=WEIGHT_DECAY)\n",
        "    scheduler = optim.lr_scheduler.StepLR(optimizer, step_size=STEP_SIZE, gamma=GAMMA)\n",
        "\n",
        "    return net, criterion, optimizer, scheduler\n",
        "\n",
        "def addOutputsToResNet(net, new_outputs):\n",
        "    in_features = net.fc.in_features\n",
        "    out_features = net.fc.out_features\n",
        "    weight = net.fc.weight.data\n",
        "\n",
        "    net.fc = nn.Linear(in_features, out_features + new_outputs)\n",
        "    net.fc.weight.data[:out_features] = weight\n",
        "def getNet():\n",
        "    return getResNet34(10)"
      ],
      "execution_count": 0,
      "outputs": []
    },
    {
      "cell_type": "code",
      "metadata": {
        "id": "2VDecUBiHl4G",
        "colab_type": "code",
        "colab": {}
      },
      "source": [
        "\n",
        "# jointTraining(getNet, addOutputsToResNet, train_subsets, val_subsets, test_subsets)\n",
        "# wandb.init(project=\"progetto-mldl\", name='joint-training', anonymous='never')\n",
        "net, criterion, optimizer, scheduler = getResNet34(100)\n",
        "# wandb.watch(net)train_dataloader = DataLoader(train_subsets[0], batch_size=BATCH_SIZE, shuffle=True, num_workers=4, drop_last=False)\n",
        "train_dataloader = DataLoader(dataset, batch_size=BATCH_SIZE, shuffle=True, num_workers=4, drop_last=False)\n",
        "train(net, train_dataloader, criterion, optimizer, scheduler)\n",
        "# outputs_labels_mapping.head(11)"
      ],
      "execution_count": 0,
      "outputs": []
    },
    {
      "cell_type": "markdown",
      "metadata": {
        "id": "pts78KY42gXj",
        "colab_type": "text"
      },
      "source": [
        "**Catastrophic Forgetting**"
      ]
    },
    {
      "cell_type": "code",
      "metadata": {
        "id": "KrA3WhUzuK67",
        "colab_type": "code",
        "colab": {}
      },
      "source": [
        "### Catastrophic Forgetting\n",
        "def sequentialLearning(train_subsets, val_subsets, test_subsets):\n",
        "    net, criterion, optimizer, scheduler = getResNet34(100)\n",
        "    groups_accuracies=[]\n",
        "    i=0\n",
        "    for train_subset, val_subset, test_subset in zip(train_subsets, val_subsets, test_subsets):\n",
        "      \n",
        "      # Train on current group\n",
        "      train_loader = DataLoader(train_subset, batch_size=BATCH_SIZE, shuffle=True, num_workers=4, drop_last=False)\n",
        "      train(net, train_loader, criterion, optimizer, scheduler)\n",
        "\n",
        "      # Validate on current group\n",
        "      val_loader = DataLoader(val_subset, batch_size=BATCH_SIZE, shuffle=True, num_workers=4, drop_last=False)\n",
        "      acc, loss = validate(net, val_loader, criterion)\n",
        "      print(\"EVALUATION: \",acc, loss)\n",
        "\n",
        "      # Testo on current group\n",
        "      test_loader = DataLoader(test_subset, batch_size=BATCH_SIZE, shuffle=True, num_workers=4, drop_last=False)\n",
        "      acc = test(net, test_loader)\n",
        "      groups_accuracies.append(acc)\n",
        "      print(\"TEST: \",acc)\n",
        "      if i==2:\n",
        "        break\n",
        "      i+=1\n",
        "    return net, groups_accuracies\n",
        "\n",
        "def printAccuracyDifference(net, old_accuracies):\n",
        "    dif_accuracies=[]\n",
        "    id_group=0\n",
        "    for test_subset in test_subsets:\n",
        "        test_loader = DataLoader(test_subset, batch_size=BATCH_SIZE, shuffle=True, num_workers=4, drop_last=False)\n",
        "        acc = test(net, test_loader)\n",
        "        dif_accuracies.append((id_group+1,old_accuracies[id_group],acc))\n",
        "        if id_group==2:\n",
        "          break\n",
        "        id_group+=1\n",
        "    return dif_accuracies"
      ],
      "execution_count": 0,
      "outputs": []
    },
    {
      "cell_type": "code",
      "metadata": {
        "id": "gkrMQy2TuUAb",
        "colab_type": "code",
        "outputId": "f3820078-c9c9-46e5-9d51-f288a0187bf6",
        "colab": {
          "base_uri": "https://localhost:8080/",
          "height": 1000
        }
      },
      "source": [
        "net, old_accuracies=sequentialLearning(train_subsets, val_subsets, test_subsets)"
      ],
      "execution_count": 129,
      "outputs": [
        {
          "output_type": "stream",
          "text": [
            "Starting epoch 1/10, LR = [0.01]\n"
          ],
          "name": "stdout"
        },
        {
          "output_type": "stream",
          "text": [
            "/content/Cifar100/resnet.py:105: UserWarning: nn.init.kaiming_normal is now deprecated in favor of nn.init.kaiming_normal_.\n",
            "  nn.init.kaiming_normal(m.weight.data, mode='fan_out')\n",
            "/usr/local/lib/python3.6/dist-packages/torch/optim/lr_scheduler.py:351: UserWarning: To get the last learning rate computed by the scheduler, please use `get_last_lr()`.\n",
            "  \"please use `get_last_lr()`.\", UserWarning)\n"
          ],
          "name": "stderr"
        },
        {
          "output_type": "stream",
          "text": [
            "Train step - Step 0, Loss 6.041431427001953\n",
            "Train step - Step 10, Loss 3.998364210128784\n",
            "Train step - Step 20, Loss 2.962327003479004\n",
            "Train step - Step 30, Loss 1.9368914365768433\n",
            "Train epoch - Accuracy: 0.24868686868686868 Loss: 3.4786440383545076 Corrects: 1231\n",
            "Starting epoch 2/10, LR = [0.01]\n",
            "Train step - Step 40, Loss 1.7082616090774536\n",
            "Train step - Step 50, Loss 1.9721704721450806\n",
            "Train step - Step 60, Loss 1.6261855363845825\n",
            "Train step - Step 70, Loss 1.4314048290252686\n",
            "Train epoch - Accuracy: 0.42747474747474745 Loss: 1.6811614678604434 Corrects: 2116\n",
            "Starting epoch 3/10, LR = [0.01]\n",
            "Train step - Step 80, Loss 1.5485889911651611\n",
            "Train step - Step 90, Loss 1.4031779766082764\n",
            "Train step - Step 100, Loss 1.3329074382781982\n",
            "Train step - Step 110, Loss 1.4706218242645264\n",
            "Train epoch - Accuracy: 0.5036363636363637 Loss: 1.3856758397998232 Corrects: 2493\n",
            "Starting epoch 4/10, LR = [0.01]\n",
            "Train step - Step 120, Loss 1.2366238832473755\n",
            "Train step - Step 130, Loss 1.2114310264587402\n",
            "Train step - Step 140, Loss 1.4046801328659058\n",
            "Train step - Step 150, Loss 1.3561187982559204\n",
            "Train epoch - Accuracy: 0.5345454545454545 Loss: 1.2982078852798 Corrects: 2646\n",
            "Starting epoch 5/10, LR = [0.01]\n",
            "Train step - Step 160, Loss 1.1864956617355347\n",
            "Train step - Step 170, Loss 1.2329127788543701\n",
            "Train step - Step 180, Loss 1.2840158939361572\n",
            "Train step - Step 190, Loss 1.1502057313919067\n",
            "Train epoch - Accuracy: 0.5591919191919192 Loss: 1.221449025953659 Corrects: 2768\n",
            "Starting epoch 6/10, LR = [0.01]\n",
            "Train step - Step 200, Loss 1.1388217210769653\n",
            "Train step - Step 210, Loss 1.1212888956069946\n",
            "Train step - Step 220, Loss 1.1696447134017944\n",
            "Train step - Step 230, Loss 1.1325745582580566\n",
            "Train epoch - Accuracy: 0.5888888888888889 Loss: 1.137359106612928 Corrects: 2915\n",
            "Starting epoch 7/10, LR = [0.01]\n",
            "Train step - Step 240, Loss 0.8909832239151001\n",
            "Train step - Step 250, Loss 1.1309692859649658\n",
            "Train step - Step 260, Loss 1.0210120677947998\n",
            "Train step - Step 270, Loss 1.17332124710083\n",
            "Train epoch - Accuracy: 0.6022222222222222 Loss: 1.1118517723709647 Corrects: 2981\n",
            "Starting epoch 8/10, LR = [0.01]\n",
            "Train step - Step 280, Loss 1.1301183700561523\n",
            "Train step - Step 290, Loss 1.1109936237335205\n",
            "Train step - Step 300, Loss 1.069466471672058\n",
            "Train step - Step 310, Loss 1.0458793640136719\n",
            "Train epoch - Accuracy: 0.6228282828282828 Loss: 1.0542964077959156 Corrects: 3083\n",
            "Starting epoch 9/10, LR = [0.01]\n",
            "Train step - Step 320, Loss 0.9337620735168457\n",
            "Train step - Step 330, Loss 0.8655799627304077\n",
            "Train step - Step 340, Loss 1.0678921937942505\n",
            "Train step - Step 350, Loss 0.8540961742401123\n",
            "Train epoch - Accuracy: 0.6527272727272727 Loss: 0.9665454010048298 Corrects: 3231\n",
            "Starting epoch 10/10, LR = [0.01]\n",
            "Train step - Step 360, Loss 1.0073522329330444\n",
            "Train step - Step 370, Loss 1.078100562095642\n",
            "Train step - Step 380, Loss 0.9508401155471802\n",
            "Train epoch - Accuracy: 0.6460606060606061 Loss: 0.9723734973175358 Corrects: 3198\n",
            "Training finished in 98.2584297657013 seconds\n",
            "EVALUATION:  0.68 0.9765878319740295\n",
            "TEST:  0.673\n",
            "Starting epoch 1/10, LR = [0.01]\n",
            "Train step - Step 0, Loss 19.03013038635254\n",
            "Train step - Step 10, Loss 3.758988380432129\n",
            "Train step - Step 20, Loss 2.42307448387146\n",
            "Train step - Step 30, Loss 1.8281574249267578\n",
            "Train epoch - Accuracy: 0.19454545454545455 Loss: 3.7538429752503983 Corrects: 963\n",
            "Starting epoch 2/10, LR = [0.01]\n",
            "Train step - Step 40, Loss 1.8709055185317993\n",
            "Train step - Step 50, Loss 1.7722948789596558\n",
            "Train step - Step 60, Loss 1.7114572525024414\n",
            "Train step - Step 70, Loss 1.7232006788253784\n",
            "Train epoch - Accuracy: 0.37575757575757573 Loss: 1.7791853902315853 Corrects: 1860\n",
            "Starting epoch 3/10, LR = [0.01]\n",
            "Train step - Step 80, Loss 1.6213864088058472\n",
            "Train step - Step 90, Loss 1.6681593656539917\n",
            "Train step - Step 100, Loss 1.4521188735961914\n",
            "Train step - Step 110, Loss 1.3477091789245605\n",
            "Train epoch - Accuracy: 0.43393939393939396 Loss: 1.5790890352653735 Corrects: 2148\n",
            "Starting epoch 4/10, LR = [0.01]\n",
            "Train step - Step 120, Loss 1.5510616302490234\n",
            "Train step - Step 130, Loss 1.628129482269287\n",
            "Train step - Step 140, Loss 1.5430188179016113\n",
            "Train step - Step 150, Loss 1.7997361421585083\n",
            "Train epoch - Accuracy: 0.4868686868686869 Loss: 1.4718078051191388 Corrects: 2410\n",
            "Starting epoch 5/10, LR = [0.01]\n",
            "Train step - Step 160, Loss 1.2623436450958252\n",
            "Train step - Step 170, Loss 1.4633047580718994\n",
            "Train step - Step 180, Loss 1.548681378364563\n",
            "Train step - Step 190, Loss 1.2677167654037476\n",
            "Train epoch - Accuracy: 0.5345454545454545 Loss: 1.3348547033830123 Corrects: 2646\n",
            "Starting epoch 6/10, LR = [0.01]\n",
            "Train step - Step 200, Loss 1.4251625537872314\n",
            "Train step - Step 210, Loss 1.1918213367462158\n",
            "Train step - Step 220, Loss 1.137787938117981\n",
            "Train step - Step 230, Loss 1.4723881483078003\n",
            "Train epoch - Accuracy: 0.5642424242424242 Loss: 1.264822112863714 Corrects: 2793\n",
            "Starting epoch 7/10, LR = [0.01]\n",
            "Train step - Step 240, Loss 1.303505778312683\n",
            "Train step - Step 250, Loss 1.2372230291366577\n",
            "Train step - Step 260, Loss 0.9916830062866211\n",
            "Train step - Step 270, Loss 1.0861226320266724\n",
            "Train epoch - Accuracy: 0.5860606060606061 Loss: 1.1954221192754881 Corrects: 2901\n",
            "Starting epoch 8/10, LR = [0.01]\n",
            "Train step - Step 280, Loss 0.9070385694503784\n",
            "Train step - Step 290, Loss 1.0939885377883911\n",
            "Train step - Step 300, Loss 1.0689181089401245\n",
            "Train step - Step 310, Loss 0.8850935101509094\n",
            "Train epoch - Accuracy: 0.6238383838383839 Loss: 1.0995349398044625 Corrects: 3088\n",
            "Starting epoch 9/10, LR = [0.01]\n",
            "Train step - Step 320, Loss 0.8463886976242065\n",
            "Train step - Step 330, Loss 0.9729259610176086\n",
            "Train step - Step 340, Loss 1.0010194778442383\n",
            "Train step - Step 350, Loss 0.8938126564025879\n",
            "Train epoch - Accuracy: 0.6541414141414141 Loss: 1.0081329112582738 Corrects: 3238\n",
            "Starting epoch 10/10, LR = [0.01]\n",
            "Train step - Step 360, Loss 0.8752396106719971\n",
            "Train step - Step 370, Loss 0.9255163669586182\n",
            "Train step - Step 380, Loss 0.8648988008499146\n",
            "Train epoch - Accuracy: 0.68 Loss: 0.9418092551616707 Corrects: 3366\n",
            "Training finished in 98.46000552177429 seconds\n",
            "EVALUATION:  0.72 0.834959864616394\n",
            "TEST:  0.677\n",
            "Starting epoch 1/10, LR = [0.01]\n",
            "Train step - Step 0, Loss 18.339366912841797\n",
            "Train step - Step 10, Loss 4.20759391784668\n",
            "Train step - Step 20, Loss 3.033165216445923\n",
            "Train step - Step 30, Loss 2.275972604751587\n",
            "Train epoch - Accuracy: 0.1202020202020202 Loss: 4.28105325361695 Corrects: 595\n",
            "Starting epoch 2/10, LR = [0.01]\n",
            "Train step - Step 40, Loss 2.0884859561920166\n",
            "Train step - Step 50, Loss 2.108051300048828\n",
            "Train step - Step 60, Loss 1.8814938068389893\n",
            "Train step - Step 70, Loss 2.010483503341675\n",
            "Train epoch - Accuracy: 0.29838383838383836 Loss: 1.9845957231521607 Corrects: 1477\n",
            "Starting epoch 3/10, LR = [0.01]\n",
            "Train step - Step 80, Loss 2.0926594734191895\n",
            "Train step - Step 90, Loss 1.8332630395889282\n",
            "Train step - Step 100, Loss 1.7930281162261963\n",
            "Train step - Step 110, Loss 1.8370580673217773\n",
            "Train epoch - Accuracy: 0.36383838383838385 Loss: 1.7863558194613216 Corrects: 1801\n",
            "Starting epoch 4/10, LR = [0.01]\n",
            "Train step - Step 120, Loss 1.905837893486023\n",
            "Train step - Step 130, Loss 1.7809277772903442\n",
            "Train step - Step 140, Loss 1.511595368385315\n",
            "Train step - Step 150, Loss 1.6052111387252808\n",
            "Train epoch - Accuracy: 0.4082828282828283 Loss: 1.676853665775723 Corrects: 2021\n",
            "Starting epoch 5/10, LR = [0.01]\n",
            "Train step - Step 160, Loss 1.7796525955200195\n",
            "Train step - Step 170, Loss 1.6225900650024414\n",
            "Train step - Step 180, Loss 1.5531467199325562\n",
            "Train step - Step 190, Loss 1.7046858072280884\n",
            "Train epoch - Accuracy: 0.43656565656565655 Loss: 1.595561179199604 Corrects: 2161\n",
            "Starting epoch 6/10, LR = [0.01]\n",
            "Train step - Step 200, Loss 1.5400722026824951\n",
            "Train step - Step 210, Loss 1.6238794326782227\n",
            "Train step - Step 220, Loss 1.5587677955627441\n",
            "Train step - Step 230, Loss 1.3726587295532227\n",
            "Train epoch - Accuracy: 0.4678787878787879 Loss: 1.5122183130245017 Corrects: 2316\n",
            "Starting epoch 7/10, LR = [0.01]\n",
            "Train step - Step 240, Loss 1.5096471309661865\n",
            "Train step - Step 250, Loss 1.5310299396514893\n",
            "Train step - Step 260, Loss 1.4213361740112305\n",
            "Train step - Step 270, Loss 1.297217845916748\n",
            "Train epoch - Accuracy: 0.476969696969697 Loss: 1.4989046895383584 Corrects: 2361\n",
            "Starting epoch 8/10, LR = [0.01]\n",
            "Train step - Step 280, Loss 1.2622427940368652\n",
            "Train step - Step 290, Loss 1.3138902187347412\n",
            "Train step - Step 300, Loss 1.4518314599990845\n",
            "Train step - Step 310, Loss 1.4150587320327759\n",
            "Train epoch - Accuracy: 0.5042424242424243 Loss: 1.4214844545691905 Corrects: 2496\n",
            "Starting epoch 9/10, LR = [0.01]\n",
            "Train step - Step 320, Loss 1.3359737396240234\n",
            "Train step - Step 330, Loss 1.1666615009307861\n",
            "Train step - Step 340, Loss 1.1909266710281372\n",
            "Train step - Step 350, Loss 1.4835412502288818\n",
            "Train epoch - Accuracy: 0.5307070707070707 Loss: 1.344256421965782 Corrects: 2627\n",
            "Starting epoch 10/10, LR = [0.01]\n",
            "Train step - Step 360, Loss 1.294972538948059\n",
            "Train step - Step 370, Loss 1.2042639255523682\n",
            "Train step - Step 380, Loss 1.3057341575622559\n",
            "Train epoch - Accuracy: 0.5466666666666666 Loss: 1.286426595678233 Corrects: 2706\n",
            "Training finished in 98.3883912563324 seconds\n",
            "EVALUATION:  0.56 1.3276466131210327\n",
            "TEST:  0.544\n"
          ],
          "name": "stdout"
        }
      ]
    },
    {
      "cell_type": "code",
      "metadata": {
        "id": "NGHBWaLNXGeI",
        "colab_type": "code",
        "colab": {
          "base_uri": "https://localhost:8080/",
          "height": 35
        },
        "outputId": "c80e4568-67c2-46d4-adaa-7f0f31ff2dd2"
      },
      "source": [
        "dif_accuracies=printAccuracyDifference(net,old_accuracies)\n",
        "dif_accuracies"
      ],
      "execution_count": 132,
      "outputs": [
        {
          "output_type": "execute_result",
          "data": {
            "text/plain": [
              "[(1, 0.673, 0.0), (2, 0.677, 0.0), (3, 0.544, 0.544)]"
            ]
          },
          "metadata": {
            "tags": []
          },
          "execution_count": 132
        }
      ]
    },
    {
      "cell_type": "code",
      "metadata": {
        "id": "tc_4xLfwcpDz",
        "colab_type": "code",
        "colab": {
          "base_uri": "https://localhost:8080/",
          "height": 458
        },
        "outputId": "910b3905-66f5-4c5e-ef99-599570f9ce34"
      },
      "source": [
        "data_plot=[]\n",
        "for row in dif_accuracies:\n",
        "    data_plot.append((row[0],\"Old Accuracy\",row[1]))\n",
        "    data_plot.append((row[0],\"New Accuracy\",row[2]))\n",
        "\n",
        "plt.figure(figsize=(20,7))\n",
        "accuracyDF=pd.DataFrame(data_plot, columns = ['Group','Type','Accuracy'])\n",
        "ax = sns.barplot(x=\"Group\", y=\"Accuracy\",hue=\"Type\",data=accuracyDF)\n",
        "plt.title(\"Catastrophic Forgetting\")\n",
        "plt.show()"
      ],
      "execution_count": 141,
      "outputs": [
        {
          "output_type": "display_data",
          "data": {
            "image/png": "[encoded data removed]",
            "text/plain": [
              "<Figure size 1440x504 with 1 Axes>"
            ]
          },
          "metadata": {
            "tags": [],
            "needs_background": "light"
          }
        }
      ]
    }
  ]
}